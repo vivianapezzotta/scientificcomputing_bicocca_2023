{
 "cells": [
  {
   "cell_type": "code",
   "execution_count": 1,
   "id": "f6456c0b-1762-4176-a50b-2b0fccfd9bed",
   "metadata": {},
   "outputs": [],
   "source": [
    "import math\n",
    "import numpy as np\n",
    "from numba import njit\n",
    "import random\n",
    "import sys\n"
   ]
  },
  {
   "cell_type": "markdown",
   "id": "2fd81ddf-1d3c-4a61-b1aa-a00f9947bbd1",
   "metadata": {},
   "source": [
    "## Q1: The stock market\n",
    "\n",
    "(This is about numba)\n",
    "\n",
    "A Markov Chain is defined as a sequence of random variables where a parameter depends *only* on the preceding value. This is a crucial tool in statistics, widely used in science and beyond (economics for instance).\n",
    "\n",
    "For instance, the stock market has phases of growing prices (bull), dreasing prices (bear) and recession. This would be a Marov Chain model:\n",
    "\n",
    "![](https://upload.wikimedia.org/wikipedia/commons/thumb/9/95/Finance_Markov_chain_example_state_space.svg/400px-Finance_Markov_chain_example_state_space.svg.png)\n",
    "\n",
    "where the numbers on the arrows indicate the probabily that the next day will be in a given state.\n",
    "\n",
    "Your task is to simulate the stock market according to this rule. Start from a random state and simulate many many  iterations. If your code is right, the fraction of days in each state should converge. \n",
    "\n",
    "Implement a pure-python version and a numba version, and compare speeds. \n"
   ]
  },
  {
   "cell_type": "code",
   "execution_count": 2,
   "id": "3f1397e6-b78e-4f6f-92ec-e662ae27bce1",
   "metadata": {},
   "outputs": [],
   "source": [
    "def fractions(N):\n",
    "    state = np.random.randint(0,3) #select initial random state between 0,1,2\n",
    "    #print(state)\n",
    "    days_0 = 0. #days in state 0\n",
    "    days_1 = 0.\n",
    "    days_2 = 0. #total must be N\n",
    "    for i in range(N): #cycle over the iterations\n",
    "        \n",
    "        number = np.random.uniform(0,1) #gives the probability\n",
    "        if state == 0: #bull\n",
    "            if number < 0.9:\n",
    "                state = 0\n",
    "                days_0 = days_0 + 1\n",
    "            elif number >= 0.9 and number < 0.975:\n",
    "                state = 1\n",
    "                days_1 = days_1 + 1\n",
    "            elif number >= 0.975:\n",
    "                state = 2\n",
    "                days_2 = days_2 + 1\n",
    "        elif state == 1: #bear\n",
    "            if number < 0.8:\n",
    "                state = 1\n",
    "                days_1 = days_1 + 1\n",
    "            elif number >= 0.8 and number < 0.95:\n",
    "                state = 0\n",
    "                days_0 = days_0 + 1\n",
    "            elif number >= 0.95:\n",
    "                state = 2\n",
    "                days_2 = days_2 + 1\n",
    "        elif state == 2: #stagnant\n",
    "            if number < 0.5:\n",
    "                state = 2\n",
    "                days_2 = days_2 + 1\n",
    "            elif number >= 0.5 and number < 0.75:\n",
    "                state = 0\n",
    "                days_0 = days_0 + 1\n",
    "            elif number >= 0.75:\n",
    "                state = 1\n",
    "                days_1 = days_1 + 1\n",
    "    frac_0 = days_0/N\n",
    "    frac_1 = days_1/N\n",
    "    frac_2 = days_2/N #sum should be 1\n",
    "    #return days_0, days_1, days_2, frac_0, frac_1, frac_2\n",
    "    return frac_0, frac_1, frac_2          "
   ]
  },
  {
   "cell_type": "code",
   "execution_count": 3,
   "id": "9d5abd78-64de-4397-86f5-75499dccd060",
   "metadata": {},
   "outputs": [],
   "source": [
    "c_fractions = njit(fractions)"
   ]
  },
  {
   "cell_type": "code",
   "execution_count": 23,
   "id": "cb41e9a5-4b41-4e1b-bffd-887582632507",
   "metadata": {},
   "outputs": [
    {
     "name": "stdout",
     "output_type": "stream",
     "text": [
      "The fractions of days in each state converged to: 0.623687 in state bull(0), 0.313522 in state bear (1) and 0.062791 in state stagnant (2)\n",
      "The total number of days is:  1000000.0\n"
     ]
    }
   ],
   "source": [
    "N = 1000000\n",
    "frac_0, frac_1, frac_2  = c_fractions(N)\n",
    "\n",
    "# see fractions in each day\n",
    "print(f'The fractions of days in each state converged to: {frac_0} in state bull(0), {frac_1} in state bear (1) and {frac_2} in state stagnant (2)')\n",
    "\n",
    "# check sum of days = N\n",
    "print('The total number of days is: ', frac_0*N + frac_1*N + frac_2*N)"
   ]
  },
  {
   "cell_type": "code",
   "execution_count": 24,
   "id": "73da2aae-0bda-40cc-9a6d-d7d43b608dad",
   "metadata": {},
   "outputs": [
    {
     "name": "stdout",
     "output_type": "stream",
     "text": [
      "695 ms ± 3.84 ms per loop (mean ± std. dev. of 7 runs, 1 loop each)\n",
      "4.69 ms ± 4.93 µs per loop (mean ± std. dev. of 7 runs, 100 loops each)\n"
     ]
    }
   ],
   "source": [
    "# time the two functions \n",
    "\n",
    "%timeit fractions(N)\n",
    "%timeit c_fractions(N)"
   ]
  },
  {
   "cell_type": "code",
   "execution_count": null,
   "id": "331eda0c-4e05-4225-9ad4-2ac67ed1418d",
   "metadata": {},
   "outputs": [],
   "source": []
  },
  {
   "cell_type": "markdown",
   "id": "5e017acf-381a-41b7-bfe0-c48d5a359d40",
   "metadata": {},
   "source": [
    "## Q2: Consistent plotting\n",
    "\n",
    "(This is about python's decorators)\n",
    "\n",
    "Write a decorator for the plots of all your papers. \n",
    "\n",
    "- Remember a decorator takes a function. \n",
    "- This function in turn should return a matplotlib figure object.\n",
    "- Before the function is called, the decorator should intialize a matplotlib figure with the options that you like the most (fontsize, ticks, etc etc)\n",
    "- After the figure is done, the decorator should save it to pdf.\n",
    "\n",
    "This is a great hack for your papers! You do this once and for all, and all plots in your paper will be beautiful, all with the same style/fontsize/etc. All you'll need to do is adding `@myplot` to the relevant plotting functions. \n",
    "    "
   ]
  },
  {
   "cell_type": "code",
   "execution_count": 2,
   "id": "74ae3a88-adb7-40a2-a154-e970b1f9d28f",
   "metadata": {},
   "outputs": [],
   "source": [
    "import matplotlib.pyplot as plt\n",
    "\n",
    "def myplot(func):\n",
    "    \n",
    "    def wrapper(*args, **kwargs):\n",
    "        \n",
    "        # create the figure with preferences\n",
    "        fig, ax = plt.subplots(figsize=(7, 7))\n",
    "        plt.rcParams.update({\n",
    "            \n",
    "            'axes.labelsize':15,\n",
    "            'axes.titlesize':20,\n",
    "            'legend.fontsize':10,\n",
    "            'legend.loc':'best',\n",
    "            'xtick.labelsize':14,\n",
    "            'ytick.labelsize':14,\n",
    "            'xtick.major.size':5,\n",
    "            'ytick.major.size':5,\n",
    "            'xtick.minor.size':4,\n",
    "            'ytick.minor.size':4,\n",
    "            'xtick.direction':'in',\n",
    "            'ytick.direction':'in',\n",
    "            'xtick.bottom':True,\n",
    "            'xtick.top':True,\n",
    "            'ytick.left':True,\n",
    "            'ytick.right':True,\n",
    "            'lines.linewidth':2,\n",
    "            'figure.autolayout': True\n",
    "            \n",
    "        })\n",
    "        ax.spines['bottom'].set_linewidth(2.)\n",
    "        ax.spines['top'].set_linewidth(2.)\n",
    "        ax.spines['right'].set_linewidth(2.)\n",
    "        ax.spines['left'].set_linewidth(2.)\n",
    "\n",
    "        # call the wrapped function for the plot\n",
    "        plot = func(*args, **kwargs)\n",
    "\n",
    "        # save the plot to PDF\n",
    "        fig.savefig('plot.pdf', bbox_inches='tight')\n",
    "        plt.close(fig) \n",
    "\n",
    "        return plot\n",
    "\n",
    "    return wrapper\n",
    "\n"
   ]
  },
  {
   "cell_type": "code",
   "execution_count": 4,
   "id": "082d99ae-adef-44ee-8c7d-00c8c2b4ce4b",
   "metadata": {},
   "outputs": [],
   "source": [
    "# example with a raw function\n",
    "\n",
    "@myplot\n",
    "def raw_plot():\n",
    "    # Your plot generation code here\n",
    "    x = np.arange(0,100,1)\n",
    "    y = np.sin(x)\n",
    "    plt.plot(x, y, label='my function')\n",
    "    plt.xlabel('x')\n",
    "    plt.ylabel('y')\n",
    "    plt.title('My fancy plot')\n",
    "    plt.legend()\n",
    "\n",
    "raw_plot()"
   ]
  },
  {
   "cell_type": "raw",
   "id": "763eeccb-352b-4f7c-837f-b71268360976",
   "metadata": {},
   "source": []
  },
  {
   "cell_type": "code",
   "execution_count": null,
   "id": "5fe528c3-6add-44fc-85b5-2ffdd96be2f9",
   "metadata": {},
   "outputs": [],
   "source": []
  },
  {
   "cell_type": "code",
   "execution_count": null,
   "id": "39526b5f-c9e0-4ecb-9e96-ae100a32c983",
   "metadata": {},
   "outputs": [],
   "source": []
  }
 ],
 "metadata": {
  "kernelspec": {
   "display_name": "Python 3 (ipykernel)",
   "language": "python",
   "name": "python3"
  },
  "language_info": {
   "codemirror_mode": {
    "name": "ipython",
    "version": 3
   },
   "file_extension": ".py",
   "mimetype": "text/x-python",
   "name": "python",
   "nbconvert_exporter": "python",
   "pygments_lexer": "ipython3",
   "version": "3.11.7"
  }
 },
 "nbformat": 4,
 "nbformat_minor": 5
}
