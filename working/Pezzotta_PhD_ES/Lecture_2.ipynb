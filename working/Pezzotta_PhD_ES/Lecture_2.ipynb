{
 "cells": [
  {
   "cell_type": "code",
   "execution_count": 1,
   "id": "966e5d3a-a0df-4323-8972-e199d0480b56",
   "metadata": {},
   "outputs": [],
   "source": [
    "import numpy as np"
   ]
  },
  {
   "cell_type": "markdown",
   "id": "a207a8af-df93-478e-aeb9-4bc284bdf620",
   "metadata": {},
   "source": [
    "## Q1: Fun with arrays\n",
    "\n",
    "**A.**  Create the array: \n",
    "```\n",
    "[[1,  6, 11],\n",
    " [2,  7, 12],\n",
    " [3,  8, 13],\n",
    " [4,  9, 14],\n",
    " [5, 10, 15]]\n",
    "```\n",
    "with out explicitly typing it in.\n",
    "\n",
    "Now create a new array containing only its 2nd and 4th rows.\n",
    "\n",
    "\n",
    "**B.** Create a 2d array with `1` on the border and `0` on the inside, e.g., like:\n",
    "```\n",
    "1 1 1 1 1\n",
    "1 0 0 0 1\n",
    "1 0 0 0 1\n",
    "1 1 1 1 1\n",
    "```\n",
    "\n",
    "Do this using array slice notation to let it work for an arbitrary-sized array"
   ]
  },
  {
   "cell_type": "code",
   "execution_count": 4,
   "id": "ba1285e9-2692-4aa8-a6b4-b4dc1851cd32",
   "metadata": {},
   "outputs": [
    {
     "name": "stdout",
     "output_type": "stream",
     "text": [
      "[[ 1  6 11]\n",
      " [ 2  7 12]\n",
      " [ 3  8 13]\n",
      " [ 4  9 14]\n",
      " [ 5 10 15]]\n"
     ]
    }
   ],
   "source": [
    "# A\n",
    "std_guy = np.arange(1,16).reshape(3,5)\n",
    "print(std_guy.T)"
   ]
  },
  {
   "cell_type": "code",
   "execution_count": 8,
   "id": "9580abe9-f359-4d0a-a7a2-91513ee0b0dd",
   "metadata": {},
   "outputs": [
    {
     "data": {
      "text/plain": [
       "array([[ 2,  7, 12],\n",
       "       [ 4,  9, 14]])"
      ]
     },
     "execution_count": 8,
     "metadata": {},
     "output_type": "execute_result"
    }
   ],
   "source": [
    "short_guy = std_guy.T[1::2]\n",
    "short_guy"
   ]
  },
  {
   "cell_type": "code",
   "execution_count": 9,
   "id": "de6beb6b-154b-4585-87db-fbe1e3c477dd",
   "metadata": {},
   "outputs": [
    {
     "name": "stdout",
     "output_type": "stream",
     "text": [
      "[[1. 1. 1. 1. 1. 1.]\n",
      " [1. 0. 0. 0. 0. 1.]\n",
      " [1. 0. 0. 0. 0. 1.]\n",
      " [1. 0. 0. 0. 0. 1.]\n",
      " [1. 0. 0. 0. 0. 1.]\n",
      " [1. 0. 0. 0. 0. 1.]\n",
      " [1. 0. 0. 0. 0. 1.]\n",
      " [1. 0. 0. 0. 0. 1.]\n",
      " [1. 1. 1. 1. 1. 1.]]\n"
     ]
    }
   ],
   "source": [
    "# B\n",
    "n_rows = 9 # arbitrary\n",
    "n_cols = 6 # arbitrary\n",
    "\n",
    "\n",
    "p = np.ones((n_rows, n_cols))\n",
    "p[1:n_rows-1, 1:n_cols-1] = 0\n",
    "print(p)"
   ]
  },
  {
   "cell_type": "code",
   "execution_count": null,
   "id": "54cbb996-72d6-4ec4-9467-ede1a985800b",
   "metadata": {},
   "outputs": [],
   "source": []
  },
  {
   "cell_type": "markdown",
   "id": "ea2b1337-1bef-416f-af50-2b823e30b00f",
   "metadata": {},
   "source": [
    "## Q2: Histrograms\n",
    "\n",
    "Here we will read in columns of numbers from a file and create a histogram, using NumPy routines.  Make sure you have the data file\n",
    "\"`sample.txt`\" in the same directory as this notebook. You download it from  https://raw.githubusercontent.com/sbu-python-summer/python-tutorial/master/day-3/sample.txt (and use python to download a file!)\n",
    "\n",
    "  * Use `np.loadtxt()` to read this file in.  \n",
    "\n",
    "  * Next, use `np.histogram()` to create a histogram array.  The output returns both the count and an array of edges.\n",
    "  \n",
    "  * Finally, loop over the bins and print out the bin center (averaging the left and right edges of the bin) and the count for that bin."
   ]
  },
  {
   "cell_type": "code",
   "execution_count": 11,
   "id": "1a8a194e-ef3b-47c9-9a72-c890fb6e5e63",
   "metadata": {},
   "outputs": [],
   "source": [
    "column, data = np.loadtxt('sample.txt', delimiter=' ', unpack=True)\n"
   ]
  },
  {
   "cell_type": "code",
   "execution_count": 14,
   "id": "5124e0dd-e997-4681-b982-e1ee14eaf6c6",
   "metadata": {},
   "outputs": [],
   "source": [
    "hist, bin_edges = np.histogram(data)\n",
    "#len(hist)\n",
    "#len(bin_edges)"
   ]
  },
  {
   "cell_type": "code",
   "execution_count": 15,
   "id": "b78fab39-8546-4f1f-afb0-55b6a972fa7d",
   "metadata": {},
   "outputs": [
    {
     "name": "stdout",
     "output_type": "stream",
     "text": [
      "Bin center:  -27.129262572005736 , counts:  3\n",
      "Bin center:  -20.21093194037355 , counts:  4\n",
      "Bin center:  -13.29260130874136 , counts:  9\n",
      "Bin center:  -6.374270677109173 , counts:  22\n",
      "Bin center:  0.5440599545230143 , counts:  22\n",
      "Bin center:  7.462390586155202 , counts:  22\n",
      "Bin center:  14.38072121778739 , counts:  9\n",
      "Bin center:  21.299051849419577 , counts:  7\n",
      "Bin center:  28.217382481051764 , counts:  1\n",
      "Bin center:  35.135713112683945 , counts:  1\n"
     ]
    }
   ],
   "source": [
    "for i in range(len(hist)):\n",
    "    print('Bin center: ', np.mean(bin_edges[i:i+2]), ', counts: ', hist[i])"
   ]
  },
  {
   "cell_type": "code",
   "execution_count": null,
   "id": "01d7f1f2-8bb5-4f1e-b439-1af612850a50",
   "metadata": {},
   "outputs": [],
   "source": []
  }
 ],
 "metadata": {
  "kernelspec": {
   "display_name": "Python 3 (ipykernel)",
   "language": "python",
   "name": "python3"
  },
  "language_info": {
   "codemirror_mode": {
    "name": "ipython",
    "version": 3
   },
   "file_extension": ".py",
   "mimetype": "text/x-python",
   "name": "python",
   "nbconvert_exporter": "python",
   "pygments_lexer": "ipython3",
   "version": "3.11.7"
  }
 },
 "nbformat": 4,
 "nbformat_minor": 5
}
